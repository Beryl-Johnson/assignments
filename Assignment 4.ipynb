{
 "cells": [
  {
   "cell_type": "markdown",
   "metadata": {},
   "source": [
    "1.1 Write a Python Program(with class concepts) to find the area of the triangle using the below\n",
    "formula.\n",
    "area = (s*(s-a)*(s-b)*(s-c)) ** 0.5\n",
    "Function to take the length of the sides of triangle from user should be defined in the parent\n",
    "class and function to calculate the area should be defined in subclass."
   ]
  },
  {
   "cell_type": "code",
   "execution_count": 1,
   "metadata": {},
   "outputs": [
    {
     "name": "stdout",
     "output_type": "stream",
     "text": [
      "a=8\n",
      "b=8\n",
      "c=8\n",
      "Area of triangle with sides 8, 8, 8 is : 27.712812921102035\n"
     ]
    }
   ],
   "source": [
    "class inputuser:\n",
    "    def __init__(self,a,b,c):\n",
    "        self.a,self.b,self.c= a,b,c\n",
    "a= int(input(\"a=\"))\n",
    "b= int(input(\"b=\"))\n",
    "c= int(input(\"c=\"))\n",
    "\n",
    "class triangle(inputuser):\n",
    "    def __init__(self,a,b,c):\n",
    "        super().__init__(a,b,c)\n",
    "\n",
    "    def area(self):\n",
    "        s = (a + b + c) / 2\n",
    "        return ((s*(s-a)*(s-b)*(s-c)) ** 0.5 )  \n",
    "\n",
    "t = triangle(a,b,c).area()\n",
    "print(\"Area of triangle with sides {}, {}, {} is : {}\".format(a,b,c,t))"
   ]
  },
  {
   "cell_type": "markdown",
   "metadata": {},
   "source": [
    "1.2 Write a function filter_long_words() that takes a list of words and an integer n and returns\n",
    "the list of words that are longer than n."
   ]
  },
  {
   "cell_type": "code",
   "execution_count": 3,
   "metadata": {},
   "outputs": [
    {
     "name": "stdout",
     "output_type": "stream",
     "text": [
      "Please input the list of words with space: coding is fun\n",
      "Please enter the integer for length: 2\n",
      "The list of words whose length is greater than 2 is ['coding', 'fun']\n"
     ]
    }
   ],
   "source": [
    "def filtering(lst,n):\n",
    "    wordlist=[]\n",
    "    for i in lst:\n",
    "        if len(i)>n:\n",
    "            wordlist.append(i)\n",
    "    return wordlist\n",
    "words = input(\"Please input the list of words with space: \").split()\n",
    "integer = int(input(\"Please enter the integer for length: \"))\n",
    "words1 = filtering(words,integer)\n",
    "print(\"The list of words whose length is greater than {} is {}\".format(integer,words1))"
   ]
  },
  {
   "cell_type": "markdown",
   "metadata": {},
   "source": [
    "2.1 Write a Python program using function concept that maps list of words into a list of integers\n",
    "representing the lengths of the corresponding words.\n",
    "Hint: If a list [ ab,cde,erty] is passed on to the python function output should come as [2,3,4]\n",
    "Here 2,3 and 4 are the lengths of the words in the list.\n"
   ]
  },
  {
   "cell_type": "code",
   "execution_count": 4,
   "metadata": {},
   "outputs": [
    {
     "name": "stdout",
     "output_type": "stream",
     "text": [
      "Enter the seq: ab,cde,erty\n"
     ]
    },
    {
     "data": {
      "text/plain": [
       "[2, 3, 4]"
      ]
     },
     "execution_count": 4,
     "metadata": {},
     "output_type": "execute_result"
    }
   ],
   "source": [
    "WordSeq = input(\"Enter the seq: \").split(\",\")\n",
    "def cal(a):\n",
    "    for i in range(len(a)):\n",
    "        return (len(a))\n",
    "list(map(cal,WordSeq))"
   ]
  },
  {
   "cell_type": "markdown",
   "metadata": {},
   "source": [
    "2.2 Write a Python function which takes a character (i.e. a string of length 1) and returns True if\n",
    "it is a vowel, False otherwise."
   ]
  },
  {
   "cell_type": "code",
   "execution_count": 5,
   "metadata": {},
   "outputs": [
    {
     "name": "stdout",
     "output_type": "stream",
     "text": [
      "Enter the letter to be checked if its a vowel or consonant: e\n"
     ]
    },
    {
     "data": {
      "text/plain": [
       "True"
      ]
     },
     "execution_count": 5,
     "metadata": {},
     "output_type": "execute_result"
    }
   ],
   "source": [
    "userip=input(\"Enter the letter to be checked if its a vowel or consonant: \")\n",
    "def isvowel(letter):\n",
    "    if len(letter)==1 and letter in 'aeiouAEIOU' :\n",
    "        return True\n",
    "    else:\n",
    "        return False\n",
    "isvowel(userip)"
   ]
  }
 ],
 "metadata": {
  "kernelspec": {
   "display_name": "Python 3",
   "language": "python",
   "name": "python3"
  },
  "language_info": {
   "codemirror_mode": {
    "name": "ipython",
    "version": 3
   },
   "file_extension": ".py",
   "mimetype": "text/x-python",
   "name": "python",
   "nbconvert_exporter": "python",
   "pygments_lexer": "ipython3",
   "version": "3.7.6"
  }
 },
 "nbformat": 4,
 "nbformat_minor": 4
}
